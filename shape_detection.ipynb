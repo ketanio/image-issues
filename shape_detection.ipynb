{
 "cells": [
  {
   "cell_type": "code",
   "execution_count": null,
   "metadata": {},
   "outputs": [],
   "source": [
    "import cv2\n",
    "import time\n",
    "import imutils\n",
    "import copy\n",
    "import numpy as np\n",
    "import matplotlib.pyplot as plt\n",
    "from skimage.filters import roberts\n",
    "%matplotlib inline"
   ]
  },
  {
   "cell_type": "code",
   "execution_count": null,
   "metadata": {},
   "outputs": [],
   "source": [
    "def detect_upper_body(img):\n",
    "    img_copy = np.copy(img)\n",
    "    img_copy = cv2.cvtColor(img_copy, cv2.COLOR_RGB2GRAY)\n",
    "    upper_body_cascade = cv2.CascadeClassifier('descriptors/upper_body.xml')\n",
    "    rectangles = upper_body_cascade.detectMultiScale(img_copy)\n",
    "    x, y, w, h = rectangles[0]\n",
    "    cv2.rectangle(img_copy, (x,y), (x+w,y+h),(0,255,0),2)\n",
    "    image_cut = img_copy[y:y+h, x:x+w]\n",
    "    plt.imshow(image_cut, cmap=\"gray\")\n",
    "    return image_cut\n",
    "\n",
    "\n",
    "# def preprocess(img):\n",
    "#     edges = roberts(img)\n",
    "#     plt.imshow(edges, cmap=\"gray\")\n",
    "#     dilation = cv2.dilate(edges, None, iterations=2)\n",
    "#     plt.imshow(dilation, cmap=\"gray\")\n",
    "#     return edges\n",
    "\n",
    "def find_contour(gray):\n",
    "    gray = cv2.GaussianBlur(gray, (5, 5), 0)\n",
    "    thresh = cv2.threshold(gray, 45, 255, cv2.THRESH_BINARY)[1]\n",
    "    thresh = cv2.erode(thresh, None, iterations=2)\n",
    "    thresh = cv2.dilate(thresh, None, iterations=2)\n",
    "    plt.imshow(thresh, cmap=\"gray\")\n",
    "    cnts = cv2.findContours(thresh.copy(), cv2.RETR_EXTERNAL,\n",
    "    cv2.CHAIN_APPROX_SIMPLE)\n",
    "    cnts = imutils.grab_contours(cnts)\n",
    "    c = max(cnts, key=cv2.contourArea)\n",
    "    return c"
   ]
  },
  {
   "cell_type": "code",
   "execution_count": null,
   "metadata": {},
   "outputs": [],
   "source": [
    "plt.rcParams['figure.figsize'] = [14.0, 7.0]\n",
    "\n",
    "image = cv2.imread(\"images/michael.jpg\")\n",
    "image_copy = np.copy(image)\n",
    "image_copy = cv2.resize(image_copy, (0,0), fx=0.1, fy=0.1)\n",
    "image_copy = cv2.cvtColor(image_copy, cv2.COLOR_BGR2RGB)\n",
    "plt.imshow(image_copy)"
   ]
  },
  {
   "cell_type": "code",
   "execution_count": null,
   "metadata": {},
   "outputs": [],
   "source": [
    "upper_body_image = detect_upper_body(image_copy)"
   ]
  },
  {
   "cell_type": "code",
   "execution_count": null,
   "metadata": {},
   "outputs": [],
   "source": [
    "c = find_contour(upper_body_image)"
   ]
  },
  {
   "cell_type": "code",
   "execution_count": null,
   "metadata": {},
   "outputs": [],
   "source": [
    "extLeft = tuple(c[c[:, :, 0].argmin()][0])\n",
    "extRight = tuple(c[c[:, :, 0].argmax()][0])\n",
    "extTop = tuple(c[c[:, :, 1].argmin()][0])\n",
    "extBot = tuple(c[c[:, :, 1].argmax()][0])"
   ]
  },
  {
   "cell_type": "code",
   "execution_count": null,
   "metadata": {},
   "outputs": [],
   "source": [
    "contour_lines = cv2.drawContours(upper_body_image, [c], -1, (204, 255, 0), 3)\n",
    "# contour_lines = cv2.circle(contour_lines, extLeft, 63, (0, 0, 255), -1)\n",
    "# contour_lines = cv2.circle(contour_lines, extRight, 63, (0, 0, 255), -1)\n",
    "# contour_lines = cv2.circle(contour_lines, extTop, 63, (0, 0, 255), -1)\n",
    "# contour_lines = cv2.circle(contour_lines, extBot, 63, (0, 0, 255), -1)"
   ]
  },
  {
   "cell_type": "code",
   "execution_count": null,
   "metadata": {},
   "outputs": [],
   "source": [
    "plt.imshow(contour_lines)"
   ]
  },
  {
   "cell_type": "code",
   "execution_count": null,
   "metadata": {},
   "outputs": [],
   "source": []
  }
 ],
 "metadata": {
  "kernelspec": {
   "display_name": "Python 3",
   "language": "python",
   "name": "python3"
  },
  "language_info": {
   "codemirror_mode": {
    "name": "ipython",
    "version": 3
   },
   "file_extension": ".py",
   "mimetype": "text/x-python",
   "name": "python",
   "nbconvert_exporter": "python",
   "pygments_lexer": "ipython3",
   "version": "3.6.8"
  }
 },
 "nbformat": 4,
 "nbformat_minor": 2
}
