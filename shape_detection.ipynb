{
 "cells": [
  {
   "cell_type": "code",
   "execution_count": null,
   "metadata": {},
   "outputs": [],
   "source": [
    "import cv2\n",
    "import time\n",
    "import imutils\n",
    "import copy\n",
    "import numpy as np\n",
    "import matplotlib.pyplot as plt\n",
    "from skimage import img_as_uint\n",
    "from skimage.filters import roberts\n",
    "%matplotlib inline"
   ]
  },
  {
   "cell_type": "code",
   "execution_count": null,
   "metadata": {},
   "outputs": [],
   "source": [
    "def detect_upper_body(img):\n",
    "    img_copy = np.copy(img)\n",
    "    img_copy = cv2.cvtColor(img_copy, cv2.COLOR_RGB2GRAY)\n",
    "    upper_body_cascade = cv2.CascadeClassifier('descriptors/upper_mcs_body.xml')\n",
    "    rectangles = upper_body_cascade.detectMultiScale(img_copy)\n",
    "    rectangle_list = sorted(rectangles, key=lambda x: x[2] * x[3], reverse=True)\n",
    "    x, y, w, h =  rectangle_list[0] if rectangle_list else [0,0,0,0]\n",
    "    cv2.rectangle(img_copy, (x,y), (x+w,y+h),(0,255,0),2)\n",
    "    image_cut = img_copy[y:y+h, x:x+w]\n",
    "    plt.imshow(image_cut, cmap=\"gray\")\n",
    "    return image_cut, (x,y,w,h)\n",
    "\n",
    "def find_contour(gray):\n",
    "    gray_copy = np.copy(gray)\n",
    "    lower = 80\n",
    "    upper = 140\n",
    "    gray_copy = cv2.GaussianBlur(gray_copy, (7, 7), 0)\n",
    "    mask = cv2.inRange(gray_copy, lower, upper)\n",
    "    thresh = cv2.bitwise_not(gray_copy, gray, mask=mask)\n",
    "    thresh = cv2.threshold(thresh, 45, 255, cv2.THRESH_BINARY_INV + cv2.THRESH_OTSU)[1]\n",
    "    thresh = cv2.erode(thresh, None, iterations=2)\n",
    "    thresh = cv2.dilate(thresh, None, iterations=2)\n",
    "    plt.imshow(thresh, cmap=\"gray\")\n",
    "    cnts = cv2.findContours(thresh.copy(), cv2.RETR_EXTERNAL, cv2.CHAIN_APPROX_SIMPLE)\n",
    "    cnts = imutils.grab_contours(cnts)\n",
    "    return cnts\n",
    "\n",
    "# DISTANCE FORMULA (PX): distance = np.sqrt( (maxRight[0] - maxLeft[0])**2 + (maxRight[1] - maxLeft[1])**2 )\n",
    "from copy import deepcopy\n",
    "def contour_transform(contour, x,y):\n",
    "    cnt_copy = deepcopy(contour)\n",
    "    for i, c in enumerate(contour):\n",
    "        for j in range(len(c)):\n",
    "            cnt_copy[i][j][0][0] = c[j][0][0] + x\n",
    "            cnt_copy[i][j][0][1] = c[j][0][1] + y\n",
    "    return cnt_copy\n",
    "\n",
    "def extreme_contour_points(cnt, x, y):\n",
    "    maxLeft = tuple(cnt[0][cnt[0][:,:,0].argmin()][0])\n",
    "    maxRight = tuple(cnt[0][cnt[0][:,:,0].argmax()][0])\n",
    "\n",
    "    for c in cnt:\n",
    "        leftmost = tuple(c[c[:,:,0].argmin()][0])\n",
    "        rightmost = tuple(c[c[:,:,0].argmax()][0])\n",
    "        if leftmost < maxLeft and (leftmost != (0,0) and leftmost != (0+x, 0+y)):\n",
    "            maxLeft = leftmost\n",
    "        if rightmost > maxRight:\n",
    "            maxRight = rightmost\n",
    "    print(f\"Left: {maxLeft} | Right: {maxRight}\")\n",
    "    return maxLeft, maxRight"
   ]
  },
  {
   "cell_type": "code",
   "execution_count": null,
   "metadata": {},
   "outputs": [],
   "source": [
    "plt.rcParams['figure.figsize'] = [14.0, 7.0]\n",
    "\n",
    "image = cv2.imread(\"images/julia_2.jpg\")\n",
    "image_copy = np.copy(image)\n",
    "image_copy = cv2.cvtColor(image_copy, cv2.COLOR_BGR2RGB)\n",
    "plt.imshow(image_copy)"
   ]
  },
  {
   "cell_type": "code",
   "execution_count": null,
   "metadata": {},
   "outputs": [],
   "source": [
    "upper_body_image, (x,y,w,h) = detect_upper_body(image_copy)"
   ]
  },
  {
   "cell_type": "code",
   "execution_count": null,
   "metadata": {},
   "outputs": [],
   "source": [
    "cnt = find_contour(upper_body_image)"
   ]
  },
  {
   "cell_type": "code",
   "execution_count": null,
   "metadata": {},
   "outputs": [],
   "source": [
    "_max_left, _max_right = extreme_contour_points(cnt, x, y)\n",
    "_contour_lines = cv2.drawContours(upper_body_image, cnt, -1, (204, 255, 0), 3)\n",
    "_contour_lines = cv2.circle(_contour_lines, _max_left, 50, (244, 66, 66), -1)\n",
    "_contour_lines = cv2.circle(_contour_lines, _max_right, 50, (244, 66, 66), -1)\n",
    "plt.imshow(_contour_lines)"
   ]
  },
  {
   "cell_type": "code",
   "execution_count": null,
   "metadata": {},
   "outputs": [],
   "source": [
    "transformed_contours = contour_transform(cnt, x, y)\n",
    "max_left, max_right = extreme_contour_points(transformed_contours, x, y)\n",
    "contour_lines = cv2.drawContours(image_copy, transformed_contours, -1, (204, 255, 0), 3)\n",
    "contour_lines = cv2.circle(contour_lines, max_left, 50, (244, 66, 66), -1)\n",
    "contour_lines = cv2.circle(contour_lines, max_right, 50, (244, 66, 66), -1)\n",
    "plt.imshow(contour_lines)"
   ]
  },
  {
   "cell_type": "code",
   "execution_count": null,
   "metadata": {},
   "outputs": [],
   "source": []
  }
 ],
 "metadata": {
  "kernelspec": {
   "display_name": "Python 3",
   "language": "python",
   "name": "python3"
  },
  "language_info": {
   "codemirror_mode": {
    "name": "ipython",
    "version": 3
   },
   "file_extension": ".py",
   "mimetype": "text/x-python",
   "name": "python",
   "nbconvert_exporter": "python",
   "pygments_lexer": "ipython3",
   "version": "3.6.8"
  }
 },
 "nbformat": 4,
 "nbformat_minor": 2
}
