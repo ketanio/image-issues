{
 "cells": [
  {
   "cell_type": "code",
   "execution_count": null,
   "metadata": {},
   "outputs": [],
   "source": [
    "import cv2\n",
    "import time\n",
    "import imutils\n",
    "import copy\n",
    "import numpy as np\n",
    "import matplotlib.pyplot as plt\n",
    "from skimage import img_as_uint\n",
    "from skimage.filters import roberts\n",
    "%matplotlib inline"
   ]
  },
  {
   "cell_type": "code",
   "execution_count": null,
   "metadata": {},
   "outputs": [],
   "source": [
    "def detect_upper_body(img):\n",
    "    img_copy = np.copy(img)\n",
    "    img_copy = cv2.cvtColor(img_copy, cv2.COLOR_RGB2GRAY)\n",
    "    upper_body_cascade = cv2.CascadeClassifier('descriptors/upper_mcs_body.xml')\n",
    "    rectangles = upper_body_cascade.detectMultiScale(img_copy)\n",
    "    rectangle_list = sorted(rectangles, key=lambda x: x[2] * x[3], reverse=True)\n",
    "    x, y, w, h =  rectangle_list[0] if rectangle_list else [0,0,0,0]\n",
    "    cv2.rectangle(img_copy, (x,y), (x+w,y+h),(0,255,0),2)\n",
    "    image_cut = img_copy[y:y+h, x:x+w]\n",
    "    plt.imshow(image_cut, cmap=\"gray\")\n",
    "    return image_cut\n",
    "\n",
    "def find_contour(gray):\n",
    "    lower = 80\n",
    "    upper = 140\n",
    "    gray = cv2.GaussianBlur(gray, (7, 7), 0)\n",
    "    mask = cv2.inRange(gray, lower, upper)\n",
    "    thresh = cv2.bitwise_not(gray, upper_body_image, mask=mask)\n",
    "    thresh = cv2.threshold(thresh, 45, 255, cv2.THRESH_BINARY_INV + cv2.THRESH_OTSU)[1]\n",
    "    thresh = cv2.erode(thresh, None, iterations=2)\n",
    "    thresh = cv2.dilate(thresh, None, iterations=2)\n",
    "    plt.imshow(thresh, cmap=\"gray\")\n",
    "    cnts = cv2.findContours(thresh.copy(), cv2.RETR_EXTERNAL, cv2.CHAIN_APPROX_SIMPLE)\n",
    "    cnts = imutils.grab_contours(cnts)\n",
    "    return cnts\n",
    "\n",
    "def preprocess(img):\n",
    "    edges = roberts(img)\n",
    "    plt.imshow(edges, cmap=\"gray\")\n",
    "    dilation = cv2.dilate(edges, None, iterations=2)\n",
    "    plt.imshow(dilation, cmap=\"gray\")\n",
    "    return edges"
   ]
  },
  {
   "cell_type": "code",
   "execution_count": null,
   "metadata": {},
   "outputs": [],
   "source": [
    "plt.rcParams['figure.figsize'] = [14.0, 7.0]\n",
    "\n",
    "image = cv2.imread(\"images/cora.jpg\")\n",
    "image_copy = np.copy(image)\n",
    "# image_copy = cv2.resize(image_copy, (0,0), fx=0.1, fy=0.1)\n",
    "image_copy = cv2.cvtColor(image_copy, cv2.COLOR_BGR2RGB)\n",
    "plt.imshow(image_copy)"
   ]
  },
  {
   "cell_type": "code",
   "execution_count": null,
   "metadata": {},
   "outputs": [],
   "source": [
    "upper_body_image = detect_upper_body(image_copy)"
   ]
  },
  {
   "cell_type": "code",
   "execution_count": null,
   "metadata": {},
   "outputs": [],
   "source": [
    "cnt = find_contour(upper_body_image)"
   ]
  },
  {
   "cell_type": "code",
   "execution_count": null,
   "metadata": {},
   "outputs": [],
   "source": [
    "maxLeft = tuple(cnt[0][cnt[0][:,:,0].argmin()][0])\n",
    "maxRight = tuple(cnt[0][cnt[0][:,:,0].argmax()][0])\n",
    "\n",
    "for c in cnt:\n",
    "    leftmost = tuple(c[c[:,:,0].argmin()][0])\n",
    "    rightmost = tuple(c[c[:,:,0].argmax()][0])\n",
    "    if leftmost < maxLeft:\n",
    "        maxLeft = leftmost\n",
    "    if rightmost > maxRight:\n",
    "        maxRight = rightmost\n",
    "\n",
    "distance = np.sqrt( (maxRight[0] - maxLeft[0])**2 + (maxRight[1] - maxLeft[1])**2 )\n",
    "print(f\"Left: {maxLeft} | Right: {maxRight} | Distance: {distance}\")"
   ]
  },
  {
   "cell_type": "code",
   "execution_count": null,
   "metadata": {},
   "outputs": [],
   "source": [
    "contour_lines = cv2.drawContours(upper_body_image, cnt, -1, (204, 255, 0), 3)\n",
    "contour_lines = cv2.circle(contour_lines, maxLeft, 25, (0, 0, 255), -1)\n",
    "contour_lines = cv2.circle(contour_lines, maxRight, 25, (0, 0, 255), -1)"
   ]
  },
  {
   "cell_type": "code",
   "execution_count": null,
   "metadata": {},
   "outputs": [],
   "source": [
    "plt.imshow(contour_lines, cmap=\"gray\")"
   ]
  },
  {
   "cell_type": "code",
   "execution_count": null,
   "metadata": {},
   "outputs": [],
   "source": [
    "plt.imshow(contour_lines)"
   ]
  },
  {
   "cell_type": "code",
   "execution_count": null,
   "metadata": {},
   "outputs": [],
   "source": []
  }
 ],
 "metadata": {
  "kernelspec": {
   "display_name": "Python 3",
   "language": "python",
   "name": "python3"
  },
  "language_info": {
   "codemirror_mode": {
    "name": "ipython",
    "version": 3
   },
   "file_extension": ".py",
   "mimetype": "text/x-python",
   "name": "python",
   "nbconvert_exporter": "python",
   "pygments_lexer": "ipython3",
   "version": "3.6.8"
  }
 },
 "nbformat": 4,
 "nbformat_minor": 2
}
