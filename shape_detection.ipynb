{
 "cells": [
  {
   "cell_type": "code",
   "execution_count": null,
   "metadata": {},
   "outputs": [],
   "source": [
    "import cv2\n",
    "import time\n",
    "import imutils\n",
    "import copy\n",
    "import numpy as np\n",
    "import matplotlib.pyplot as plt\n",
    "from skimage import img_as_uint\n",
    "from skimage.filters import roberts\n",
    "%matplotlib inline"
   ]
  },
  {
   "cell_type": "code",
   "execution_count": null,
   "metadata": {},
   "outputs": [],
   "source": [
    "def detect_upper_body(img):\n",
    "    img_copy = np.copy(img)\n",
    "    img_copy = cv2.cvtColor(img_copy, cv2.COLOR_RGB2GRAY)\n",
    "    upper_body_cascade = cv2.CascadeClassifier('descriptors/upper_body.xml')\n",
    "    rectangles = upper_body_cascade.detectMultiScale(img_copy)\n",
    "    x, y, w, h = rectangles[0]\n",
    "    cv2.rectangle(img_copy, (x,y), (x+w,y+h),(0,255,0),2)\n",
    "    image_cut = img_copy[y:y+h, x:x+w]\n",
    "    plt.imshow(image_cut, cmap=\"gray\")\n",
    "    return image_cut\n",
    "\n",
    "def find_contour(gray):\n",
    "    gray = cv2.GaussianBlur(gray, (7, 7), 0)\n",
    "    thresh = cv2.threshold(gray, 50, 255, cv2.THRESH_BINARY + cv2.THRESH_OTSU)[1]\n",
    "    thresh = cv2.erode(thresh, None, iterations=2)\n",
    "    thresh = cv2.dilate(thresh, None, iterations=2)\n",
    "    cv2.bitwise_not(thresh, thresh)\n",
    "    plt.imshow(thresh, cmap=\"gray\")\n",
    "    cnts = cv2.findContours(thresh.copy(), cv2.RETR_TREE, cv2.CHAIN_APPROX_SIMPLE)\n",
    "    cnts = imutils.grab_contours(cnts)\n",
    "    c = max(cnts, key=cv2.contourArea)\n",
    "    return c\n",
    "\n",
    "def preprocess(img):\n",
    "    edges = roberts(img)\n",
    "    plt.imshow(edges, cmap=\"gray\")\n",
    "    dilation = cv2.dilate(edges, None, iterations=2)\n",
    "    plt.imshow(dilation, cmap=\"gray\")\n",
    "    return edges"
   ]
  },
  {
   "cell_type": "code",
   "execution_count": null,
   "metadata": {},
   "outputs": [],
   "source": [
    "plt.rcParams['figure.figsize'] = [14.0, 7.0]\n",
    "\n",
    "image = cv2.imread(\"images/michael.jpg\")\n",
    "image_copy = np.copy(image)\n",
    "# image_copy = cv2.resize(image_copy, (0,0), fx=0.1, fy=0.1)\n",
    "image_copy = cv2.cvtColor(image_copy, cv2.COLOR_BGR2RGB)\n",
    "plt.imshow(image_copy)"
   ]
  },
  {
   "cell_type": "code",
   "execution_count": null,
   "metadata": {},
   "outputs": [],
   "source": [
    "upper_body_image = detect_upper_body(image_copy)"
   ]
  },
  {
   "cell_type": "code",
   "execution_count": null,
   "metadata": {},
   "outputs": [],
   "source": [
    "cnt = find_contour(upper_body_image)"
   ]
  },
  {
   "cell_type": "code",
   "execution_count": null,
   "metadata": {},
   "outputs": [],
   "source": [
    "leftmost = tuple(cnt[cnt[:,:,0].argmin()][0])\n",
    "rightmost = tuple(cnt[cnt[:,:,0].argmax()][0])\n",
    "distance = np.sqrt( (rightmost[0] - leftmost[0])**2 + (rightmost[1] - leftmost[1])**2 )\n",
    "print(f\"Left: {leftmost} | Right: {rightmost} | Distance: {distance}\")"
   ]
  },
  {
   "cell_type": "code",
   "execution_count": null,
   "metadata": {},
   "outputs": [],
   "source": [
    "contour_lines = cv2.drawContours(upper_body_image, [cnt], -1, (204, 255, 0), 3)\n",
    "contour_lines = cv2.circle(contour_lines, leftmost, 25, (0, 0, 255), -1)\n",
    "contour_lines = cv2.circle(contour_lines, rightmost, 25, (0, 0, 255), -1)"
   ]
  },
  {
   "cell_type": "code",
   "execution_count": null,
   "metadata": {},
   "outputs": [],
   "source": [
    "plt.imshow(contour_lines, cmap=\"gray\")"
   ]
  },
  {
   "cell_type": "code",
   "execution_count": null,
   "metadata": {},
   "outputs": [],
   "source": [
    "plt.imshow(contour_lines)"
   ]
  },
  {
   "cell_type": "code",
   "execution_count": null,
   "metadata": {},
   "outputs": [],
   "source": []
  }
 ],
 "metadata": {
  "kernelspec": {
   "display_name": "Python 3",
   "language": "python",
   "name": "python3"
  },
  "language_info": {
   "codemirror_mode": {
    "name": "ipython",
    "version": 3
   },
   "file_extension": ".py",
   "mimetype": "text/x-python",
   "name": "python",
   "nbconvert_exporter": "python",
   "pygments_lexer": "ipython3",
   "version": "3.7.1"
  }
 },
 "nbformat": 4,
 "nbformat_minor": 2
}
